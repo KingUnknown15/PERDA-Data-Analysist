{
 "cells": [
  {
   "cell_type": "markdown",
   "id": "2eaf3746-23fc-48f6-8dac-abbb3b613aaa",
   "metadata": {},
   "source": [
    "Scrapping PDF URLs from Base URL"
   ]
  },
  {
   "cell_type": "code",
   "execution_count": 65,
   "id": "c6b6562a-d4f6-4983-bf63-a4b8422d405b",
   "metadata": {},
   "outputs": [],
   "source": [
    "#Getting the Library\n",
    "import requests\n",
    "from bs4 import BeautifulSoup\n",
    "homeurl= \"https://peraturan.bpk.go.id\"\n",
    "import io\n",
    "import os\n",
    "import re\n",
    "import pypdfium2 as pdfium"
   ]
  },
  {
   "cell_type": "code",
   "execution_count": 2,
   "id": "f04af95a-2cd1-48b2-9535-141c26d47b0a",
   "metadata": {},
   "outputs": [],
   "source": [
    "url = \"https://peraturan.bpk.go.id/Search?jenis=19\"\n",
    "# This is a standard user-agent of Chrome browser running on Windows 10 \n",
    "headers = {'User-Agent': 'Mozilla/5.0 (Windows NT 10.0; Win64; x64) AppleWebKit/537.36 (KHTML, like Gecko) Chrome/71.0.3578.98 Safari/537.36' }\n",
    "response = requests.get(url, headers=headers)\n",
    "#Getting the content from the URL\n",
    "content = BeautifulSoup(response.text, 'html.parser')\n",
    "urls = content.find_all('h3')"
   ]
  },
  {
   "cell_type": "code",
   "execution_count": 72,
   "id": "9dd2d688-7a1f-4416-b7f9-05dc4ee3db71",
   "metadata": {},
   "outputs": [
    {
     "name": "stdout",
     "output_type": "stream",
     "text": [
      "81\n",
      "['PERATURAN DAERAH KABUPATEN PURWOREJO NOMOR 14 TAHUN 2016', 'PERATURAN DAERAH KOTA PADANG NOMOR 05 TAHUN 2007', 'PERATURAN DAERAH KABUPATEN HULU SUNGAI SELATAN NOMOR 15 TAHUN 2012', 'PERATURAN DAERAH KABUPATEN DHARMASRAYA NOMOR 5 TAHUN 2016', 'PERATURAN DAERAH KABUPATEN KOTABARU NOMOR 7 TAHUN 2018', 'PERATURAN DAERAH KABUPATEN KATINGAN NOMOR 7 TAHUN 2012', 'PERATURAN DAERAH PROVINSI JAMBI NOMOR 6 TAHUN 2013', 'PERATURAN DAERAH KABUPATEN GARUT NOMOR 13 TAHUN 2018', 'PERATURAN DAERAH KABUPATEN PULANG PISAU NOMOR 5 TAHUN 2020', 'PERATURAN DAERAH KABUPATEN MOROWALI UTARA NOMOR 8 TAHUN 2020', 'PERATURAN DAERAH KABUPATEN DAERAH TINGKAT II KOLAKA NOMOR : 5 TAHUN 1998', 'PERATURAN DAERAH KOTA SAWAHLUNTO NOMOR 6 TAHUN 2013', 'PERATURAN DAERAH KABUPATEN BATU BARA Nomor 11 Tahun 2010', 'PERATURAN DAERAH KABUPATEN KARO NOMOR 05 TAHUN 2008', 'PERATURAN DAERAH KABUPATEN SERDANG BEDAGAI NOMOR 16 TAHUN 2005', 'PERATURAN DAERAH KABUPATEN SOLOK NOMOR TAHUN 2020', 'PERATURAN DAERAH KOTA TEGAL NOMOR 1 TAHUN 2019', 'PERATURAN DAERAH KABUPATEN KEPULAUAN YAPEN NOMOR 03 TAHUN 2018', 'PERATURAN DAERAH KOTA TASIKMALAYA NOMOR 6 TAHUN 2019', 'PERATURAN DAERAH KABUPATEN PURBALINGGA NOMOR 03 TAHUN 2011', 'PERATURAN DAERAH KABUPATEN HULU SUNGAI UTARA NOMOR 5 TAHUN 2008', 'PERATURAN DAERAH PROVINSI KALIMANTAN SELATAN NOMOR 19 TAHUN 2012', 'PERATURAN DAERAH KOTA DEPOK NOMOR 1 TAHUN 2017', 'PERATURAN DAERAH KABUPATEN PATI NOMOR 3 TAHUN 2019', 'PERATURAN DAERAH KABUPATEN PATI NOMOR 3 TAHUN 2019', 'PERATURAN DAERAH KOTA CIREBON NOMOR 5 TAHUN 2013', 'PERATURAN DAERAH KABUPATEN KONAWE UTARA NOMOR 1 TAHUN 2022', 'PERATURAN DAERAH KABUPATEN KULON PROGO NOMOR 2 TAHUN 2016', 'PERATURAN DAERAH KABUPATEN KLUNGKUNG NOMOR 9 TAHUN 2013', 'PERATURAN DAERAH KABUPATEN SERUYAN NOMOR 6 TAHUN 2013', 'PERATURAN DAERAH KABUPATEN MAJALENGKA NOMOR 2 TAHUN 2015', 'PERATURAN DAERAH KABUPATEN MUKOMUKO NOMOR 9 TAHUN 2011', 'PERATURAN DAERAH PROPINSI DAERAH TINGKAT I SUMATERA UTARA NOMOR : 9 TAHUN 1999', 'PERATURAN DAERAH KABUPATEN LAMPUNG BARAT NOMOR 9 TAHUN 2017', 'PERATURAN DAERAH KABUPATEN SANGGAU N0M0R 11 TAHUN 2014', 'PERATURAN DAERAH KABUPATEN SIDENRENG RAPPANG NOMOR 11 TAHUN 2016', 'PERATURAN DAERAH KABUPATEN KOLAKA TIMUR NOMOR 10 TAHUN 2017', 'PERATURAN DAERAH KABUPATEN TANAH LAUT NOMOR 2 TAHUN 2018', 'PERATURAN DAERAH KABUPATEN TANJUNG JABUNG TIMUR NOMOR : 16 TAHUN 2006', 'PERATURAN DAERAH KABUPATEN BLORA NOMOR 3 TAHUN 2011', 'PERATURAN DAERAH KABUPATEN WONOGIRI NOMOR 11 TAHUN 2007', 'PERATURAN DAERAH KABUPATEN BANDUNG .NOMOR 8 TAHUN 2000', 'PERATURAN DAERAH KOTA KEDIRI NOMOR 4 TAHUN 2020', 'PERATURAN DAERAH KOTA CIMAHI NOMOR 1 TAHUN 2010', 'PERATURAN DAERAH KABUPATEN BANGKA NOMOR 5 TAHUN 2003', 'PERATURAN DAERAH KOTA PANGKALPINANG NOMOR 14 TAHUN 2009', 'PERATURAN DAERAH KABUPATEN SINTANG NOMOR 6 TAHUN 2015', 'PERATURAN DAERAH KABUPATEN JENEPONTO NOMOR : TAHUN 2007', 'PERATURAN DAERAH KOTA MALANG NOMOR 8 TAHUN 2014', 'PERATURAN DAERAH PROVINSI. SULAWESI TENGAH NOMOR 10 TAHUN 2011', 'PERATURAN DAERAH KABUPATEN SERDANG BEDAGAI NOMOR 48 TAHUN 2005', 'PERATURAN DAERAH KABUPATEN KUTAI KARTANEGARA NOMOR 3 TAHUN 2008', 'PERATURAN PELAKSANAAN PERATURAN DAERAH KOTA KEDIRI NOMOR 4 TAHUN 2017', 'PERATURAN DAERAH KABUPATEN BANYUWANGI NOMOR 3 TAHUN 2015', 'PERATURAN DAERAH KABUPATEN SERANG NOMOR 5 TAHUN 2015', 'PERATURAN DAERAH KOTA SURABAYA NOMOR 4 TAHUN 2017', 'PERATURAN DAERAH KABUPATEN LABUHANBATU SELATAN NOMOR 38 TAHUN 2011', 'PERATURAN DAERAH KOTA KENDARI NOMOR \\\\ TAHUN 2013', 'PERATURAN DAERAH KABUPATEN KULON PROGO NOMOR 23 TAHUN 2012', 'PERATURAN DAERAH KABUPATEN BADUNG NOMOR 4 TAHUN 2011', 'PERATURAN DAERAH KABUPATEN BARITO UTARA NOMOR 12 TAHUN 2015', 'PERATURAN DAERAH KABUPATEN PATI NOMOR 12 TAHUN 2016', 'PERATURAN DAERAH KABUPATEN KUTAI KARTANEGARA NOMOR 10 TAHUN 2006', 'PERATURAN DAERAH KOTA SUNGAI PENUH NOMOR 6 TAHUN 2018', 'PERATURAN DAERAH KABUPATEN SIDENRENG RAPPANG NOMOR 7 TAHUN 2015', 'PERATURAN DAERAH KABUPATEN SINJAI NOMOR 16 TAHUN 2005', 'PERATURAN DAERAH KABUPATEN WONOGIRI NOMOR 2 TAHUN 2014', 'PERATURAN DAERAH KOTA SURAKARTA NOMOR 2 TAHUN 2021', 'PERATURAN DAERAH KOTA PASURUAN NOMOR 5 TAHUN 2021', 'PERATURAN DAERAH KABUPATEN BALANGAN NOMOR 3 TAHUN 2021', 'PERATURAN DAERAH KABUPATEN BANJARNEGARA NOMOR 7 TAHUN 2015', 'PERATURAN DAERAH KABUPATEN BOALEMO NOMOR 11 TAHUN 2005', 'PERATURAN DAERAH KABUPATEN PATI NOMOR 7 TAHUN 2016', 'PERATURAN DAERAH KABUPATEN MAROS NOMOR : 11 TAHUN 2015', 'PERATURAN DAERAH KABUPATEN ROKAN HILIR NOMOR TAHUN 2016', 'PERATURAN DAERAH KABUPATEN KUTAI KARTANEGARA NOMOR TAHUN 2014', 'PERATURAN DAERAH KOTA CIREBON NOMOR 12 TAHUN 2011', 'PERATURAN DAERAH KOTA SALATIGA NOMOR 3 TAHUN 2015', 'PERATURAN DAERAH KABUPATEN PURWOREJO NOMOR : 9 TAHUN 2015', 'PERATURAN DAERAH KABUPATEN KUDUS NOMOR 9 TAHUN 2015', 'PERATURAN DAERAH KABUPATEN HULU SUNGAI SELATAN NOMOR 2 TAHUN 2008']\n"
     ]
    }
   ],
   "source": [
    "#List to store the links\n",
    "pdf_links= []\n",
    "list_regex = []\n",
    "pdf_urls = []\n",
    "regex1 = r'PERATURAN.*PROVINSI[^*]+?\\d{4}'\n",
    "regex2 = r'PERATURAN.*DAERAH[^*]+?\\d{4}'\n",
    "regex3 = r'PERATURAN.*BUPATI[^*]+?\\d{4}'\n",
    "#Looping the Base URL\n",
    "for i in range(1, 10):\n",
    "    #Getting Response from the URL\n",
    "    url = f\"https://peraturan.bpk.go.id/Search?jenis=19&p={i}\"\n",
    "    headers = {'User-Agent': 'Mozilla/5.0 (Windows NT 10.0; Win64; x64) AppleWebKit/537.36 (KHTML, like Gecko) Chrome/71.0.3578.98 Safari/537.36' }\n",
    "    response = requests.get(url, headers=headers)\n",
    "    #Getting the content from the URL\n",
    "    content = BeautifulSoup(response.text, 'html.parser')\n",
    "    urls = content.find_all()\n",
    "    # print(urls)\n",
    "    try:\n",
    "        # Looping to see if there's a PDF url\n",
    "        for see in urls:\n",
    "            # print(see['a'])\n",
    "            try:\n",
    "                #If there's a PDF link, store it into the list\n",
    "                if 'pdf' in see['href']:\n",
    "                    pdf_url = see['href']\n",
    "                    pdf_urls.append(pdf_url)\n",
    "                    # print(len(pdf_urls))\n",
    "                    # print(pdf_url)\n",
    "                    #Opening the PDF\n",
    "                    link = homeurl+str(pdf_url)\n",
    "                    # print(link)\n",
    "                    response = requests.get(link,allow_redirects=True, headers=headers)\n",
    "                    # print(response)\n",
    "                    if '200' in str(response):\n",
    "                        # print(response)\n",
    "                        name = pdf_url.split('/')[-1].replace(\"%20\",\"_\")\n",
    "                        # print(name)\n",
    "    \n",
    "                        temp_pdf = io.BytesIO(response.content)\n",
    "                        # print(temp_pdf)\n",
    "                        open_pdf = pdfium.PdfDocument(temp_pdf)\n",
    "                        n_pages = len(open_pdf)\n",
    "                        # print(n_pages)\n",
    "    \n",
    "                        page = open_pdf[0]\n",
    "                        textpage = page.get_textpage()\n",
    "                        text = textpage.get_text_range()\n",
    "                        # print(len(text))\n",
    "                    else : continue\n",
    "                    # print(len(text))\n",
    "                    if re.search(regex1, text):\n",
    "                        list_regex.append(\" \".join((re.search(regex1, text)[0]).split()))\n",
    "                        # print(re.search(regex1, text))\n",
    "                    elif re.search(regex2, text):\n",
    "                        list_regex.append(\" \".join((re.search(regex2, text)[0]).split()))\n",
    "                        # print(re.search(regex2, text))\n",
    "                    elif re.search(regex3, text):\n",
    "                        list_regex.append(\" \".join((re.search(regex3, text)[0]).split()))\n",
    "                        # print(re.search(regex2, text))\n",
    "                    # # print(len(pdf_links))\n",
    "                    # list_regex.append(pdf_url)\n",
    "                    \n",
    "                    # pdf_response = requests.get(pdf_url)\n",
    "                    # print(pdf_url.split('/')[-1].replace(\"%20\",\"_\"))\n",
    "                else : pass\n",
    "            except : pass\n",
    "    except : pass\n",
    "# stored PDF urls\n",
    "print(\"total PDF = \", len(list_regex))\n",
    "print(list_regex)"
   ]
  },
  {
   "cell_type": "code",
   "execution_count": 61,
   "id": "01cb736b-5a3f-41f6-8ef7-9209137cb0ff",
   "metadata": {},
   "outputs": [
    {
     "name": "stdout",
     "output_type": "stream",
     "text": [
      "['8091PerdaNo6Th2013.pdf.pdf', 'Perbup_Gunung_Mas_Nomor_26_tahun_2014.pdf.pdf', 'PERDA_14_TAHUN_2016.pdf.pdf', 'Perda_No._15_Tahun_2012_APBD_TA.2013.pdf.pdf', 'PERDA_NOMOR_5_TAHUN_2016_TENTANG__APBDP_TA.pdf.pdf', 'PERDA_NOMOR_7_TAHUN_2018.pdf.pdf', 'Perda_No_5_Tahun_2007_daftar_perusahaan_dan_pendaftaran_gudang.pdf.pdf', 'PERDA_NO_7_TAHUN_2012.pdf.pdf']\n"
     ]
    }
   ],
   "source": [
    "folder = os.listdir(\"./bpk_pdfs\")\n",
    "print(folder)"
   ]
  },
  {
   "cell_type": "code",
   "execution_count": null,
   "id": "5d9028d2-7313-4ac0-912f-d5d83078f959",
   "metadata": {},
   "outputs": [],
   "source": []
  }
 ],
 "metadata": {
  "kernelspec": {
   "display_name": "Python 3 (ipykernel)",
   "language": "python",
   "name": "python3"
  },
  "language_info": {
   "codemirror_mode": {
    "name": "ipython",
    "version": 3
   },
   "file_extension": ".py",
   "mimetype": "text/x-python",
   "name": "python",
   "nbconvert_exporter": "python",
   "pygments_lexer": "ipython3",
   "version": "3.12.0"
  }
 },
 "nbformat": 4,
 "nbformat_minor": 5
}
